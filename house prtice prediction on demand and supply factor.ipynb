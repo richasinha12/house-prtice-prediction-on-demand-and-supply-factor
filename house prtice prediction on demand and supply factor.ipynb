{
 "cells": [
  {
   "cell_type": "code",
   "execution_count": 1,
   "id": "5a4d4894",
   "metadata": {},
   "outputs": [],
   "source": [
    "import numpy as np\n",
    "\n",
    "import pandas as pd\n",
    "\n",
    "import matplotlib.pyplot as plt \n",
    "\n",
    "from collections import Counter\n",
    "\n",
    "import itertools\n",
    "\n",
    "from sklearn.preprocessing import StandardScaler\n",
    "\n",
    "from sklearn.model_selection import train_test_split\n",
    "\n",
    "from sklearn.ensemble._forest import ForestClassifier\n",
    "from sklearn.ensemble import RandomForestClassifier,RandomForestRegressor\n",
    "\n",
    "from sklearn.tree import DecisionTreeClassifier,DecisionTreeRegressor\n",
    "\n",
    "from sklearn.metrics import accuracy_score\n",
    "\n",
    "from sklearn.metrics import precision_score\n",
    "\n",
    "from sklearn.metrics import  accuracy_score, classification_report, confusion_matrix\n",
    "from sklearn.metrics import mean_absolute_error, mean_squared_error, r2_score"
   ]
  },
  {
   "cell_type": "code",
   "execution_count": 2,
   "id": "beb01019",
   "metadata": {},
   "outputs": [],
   "source": [
    "# Load the csv file\n",
    "\n",
    "dataframe1 = pd.read_csv(\"demand_data.csv\")\n",
    "dataframe2 = pd.read_csv(\"supply_data.csv\")\n"
   ]
  },
  {
   "cell_type": "code",
   "execution_count": 3,
   "id": "1af877cb",
   "metadata": {},
   "outputs": [
    {
     "name": "stdout",
     "output_type": "stream",
     "text": [
      "    Unnamed: 0      Period  Permit_Number  construction  Homes_Sold  \\\n",
      "0            1  01-01-2000           1727        353065         873   \n",
      "1            2  01-02-2000           1692        351933         856   \n",
      "2            3  01-03-2000           1651        353452         900   \n",
      "3            4  01-04-2000           1597        356188         841   \n",
      "4            5  01-05-2000           1543        349907         857   \n",
      "..         ...         ...            ...           ...         ...   \n",
      "79          80  01-08-2006           1722        584460        1035   \n",
      "80          81  01-09-2006           1655        573878        1016   \n",
      "81          82  01-10-2006           1570        561444         941   \n",
      "82          83  01-11-2006           1535        548971        1003   \n",
      "83          84  01-12-2006           1638        545011         998   \n",
      "\n",
      "    Housing_Starts        DATE  UNEM_RATE  MORTGAGE      GDPC1  FORECLOSURES  \\\n",
      "0             1636  01-01-2000       4.03      8.26  12935.252          1.95   \n",
      "1             1737  01-04-2000       3.93      8.32  13170.749          1.97   \n",
      "2             1604  01-07-2000       4.00      8.02  13183.890          2.09   \n",
      "3             1626  01-10-2000       3.90      7.62  13262.250          2.23   \n",
      "4             1575  01-01-2001       4.23      7.01  13219.251          2.34   \n",
      "..             ...         ...        ...       ...        ...           ...   \n",
      "79            1650  01-10-2019       3.60      3.70  19202.310          2.34   \n",
      "80            1720  01-01-2020       3.80      3.52  18951.992          2.36   \n",
      "81            1491  01-04-2020      13.07      3.24  17258.205          2.55   \n",
      "82            1570  01-07-2020       8.80      2.95  18560.774          2.80   \n",
      "83            1649  01-10-2020       6.77      2.76  18767.778          2.74   \n",
      "\n",
      "       HPI  \n",
      "0   101.34  \n",
      "1   103.67  \n",
      "2   105.79  \n",
      "3   108.27  \n",
      "4   110.48  \n",
      "..     ...  \n",
      "79  212.47  \n",
      "80  215.51  \n",
      "81  217.89  \n",
      "82  222.84  \n",
      "83  232.55  \n",
      "\n",
      "[84 rows x 12 columns]\n"
     ]
    }
   ],
   "source": [
    "dataframe = pd.merge(dataframe2, dataframe1, right_index=True, left_index=True)\n",
    "print (dataframe)"
   ]
  },
  {
   "cell_type": "code",
   "execution_count": 4,
   "id": "66782d77",
   "metadata": {},
   "outputs": [
    {
     "data": {
      "text/html": [
       "<div>\n",
       "<style scoped>\n",
       "    .dataframe tbody tr th:only-of-type {\n",
       "        vertical-align: middle;\n",
       "    }\n",
       "\n",
       "    .dataframe tbody tr th {\n",
       "        vertical-align: top;\n",
       "    }\n",
       "\n",
       "    .dataframe thead th {\n",
       "        text-align: right;\n",
       "    }\n",
       "</style>\n",
       "<table border=\"1\" class=\"dataframe\">\n",
       "  <thead>\n",
       "    <tr style=\"text-align: right;\">\n",
       "      <th></th>\n",
       "      <th>Unnamed: 0</th>\n",
       "      <th>Period</th>\n",
       "      <th>Permit_Number</th>\n",
       "      <th>construction</th>\n",
       "      <th>Homes_Sold</th>\n",
       "      <th>Housing_Starts</th>\n",
       "      <th>DATE</th>\n",
       "      <th>UNEM_RATE</th>\n",
       "      <th>MORTGAGE</th>\n",
       "      <th>GDPC1</th>\n",
       "      <th>FORECLOSURES</th>\n",
       "      <th>HPI</th>\n",
       "    </tr>\n",
       "  </thead>\n",
       "  <tbody>\n",
       "    <tr>\n",
       "      <th>0</th>\n",
       "      <td>1</td>\n",
       "      <td>01-01-2000</td>\n",
       "      <td>1727</td>\n",
       "      <td>353065</td>\n",
       "      <td>873</td>\n",
       "      <td>1636</td>\n",
       "      <td>01-01-2000</td>\n",
       "      <td>4.03</td>\n",
       "      <td>8.26</td>\n",
       "      <td>12935.252</td>\n",
       "      <td>1.95</td>\n",
       "      <td>101.34</td>\n",
       "    </tr>\n",
       "    <tr>\n",
       "      <th>1</th>\n",
       "      <td>2</td>\n",
       "      <td>01-02-2000</td>\n",
       "      <td>1692</td>\n",
       "      <td>351933</td>\n",
       "      <td>856</td>\n",
       "      <td>1737</td>\n",
       "      <td>01-04-2000</td>\n",
       "      <td>3.93</td>\n",
       "      <td>8.32</td>\n",
       "      <td>13170.749</td>\n",
       "      <td>1.97</td>\n",
       "      <td>103.67</td>\n",
       "    </tr>\n",
       "    <tr>\n",
       "      <th>2</th>\n",
       "      <td>3</td>\n",
       "      <td>01-03-2000</td>\n",
       "      <td>1651</td>\n",
       "      <td>353452</td>\n",
       "      <td>900</td>\n",
       "      <td>1604</td>\n",
       "      <td>01-07-2000</td>\n",
       "      <td>4.00</td>\n",
       "      <td>8.02</td>\n",
       "      <td>13183.890</td>\n",
       "      <td>2.09</td>\n",
       "      <td>105.79</td>\n",
       "    </tr>\n",
       "    <tr>\n",
       "      <th>3</th>\n",
       "      <td>4</td>\n",
       "      <td>01-04-2000</td>\n",
       "      <td>1597</td>\n",
       "      <td>356188</td>\n",
       "      <td>841</td>\n",
       "      <td>1626</td>\n",
       "      <td>01-10-2000</td>\n",
       "      <td>3.90</td>\n",
       "      <td>7.62</td>\n",
       "      <td>13262.250</td>\n",
       "      <td>2.23</td>\n",
       "      <td>108.27</td>\n",
       "    </tr>\n",
       "    <tr>\n",
       "      <th>4</th>\n",
       "      <td>5</td>\n",
       "      <td>01-05-2000</td>\n",
       "      <td>1543</td>\n",
       "      <td>349907</td>\n",
       "      <td>857</td>\n",
       "      <td>1575</td>\n",
       "      <td>01-01-2001</td>\n",
       "      <td>4.23</td>\n",
       "      <td>7.01</td>\n",
       "      <td>13219.251</td>\n",
       "      <td>2.34</td>\n",
       "      <td>110.48</td>\n",
       "    </tr>\n",
       "  </tbody>\n",
       "</table>\n",
       "</div>"
      ],
      "text/plain": [
       "   Unnamed: 0      Period  Permit_Number  construction  Homes_Sold  \\\n",
       "0           1  01-01-2000           1727        353065         873   \n",
       "1           2  01-02-2000           1692        351933         856   \n",
       "2           3  01-03-2000           1651        353452         900   \n",
       "3           4  01-04-2000           1597        356188         841   \n",
       "4           5  01-05-2000           1543        349907         857   \n",
       "\n",
       "   Housing_Starts        DATE  UNEM_RATE  MORTGAGE      GDPC1  FORECLOSURES  \\\n",
       "0            1636  01-01-2000       4.03      8.26  12935.252          1.95   \n",
       "1            1737  01-04-2000       3.93      8.32  13170.749          1.97   \n",
       "2            1604  01-07-2000       4.00      8.02  13183.890          2.09   \n",
       "3            1626  01-10-2000       3.90      7.62  13262.250          2.23   \n",
       "4            1575  01-01-2001       4.23      7.01  13219.251          2.34   \n",
       "\n",
       "      HPI  \n",
       "0  101.34  \n",
       "1  103.67  \n",
       "2  105.79  \n",
       "3  108.27  \n",
       "4  110.48  "
      ]
     },
     "execution_count": 4,
     "metadata": {},
     "output_type": "execute_result"
    }
   ],
   "source": [
    "dataframe.head()"
   ]
  },
  {
   "cell_type": "code",
   "execution_count": 5,
   "id": "d53807c6",
   "metadata": {},
   "outputs": [
    {
     "name": "stdout",
     "output_type": "stream",
     "text": [
      "<class 'pandas.core.frame.DataFrame'>\n",
      "Int64Index: 84 entries, 0 to 83\n",
      "Data columns (total 12 columns):\n",
      " #   Column          Non-Null Count  Dtype  \n",
      "---  ------          --------------  -----  \n",
      " 0   Unnamed: 0      84 non-null     int64  \n",
      " 1   Period          84 non-null     object \n",
      " 2   Permit_Number   84 non-null     int64  \n",
      " 3   construction    84 non-null     int64  \n",
      " 4   Homes_Sold      84 non-null     int64  \n",
      " 5   Housing_Starts  84 non-null     int64  \n",
      " 6   DATE            84 non-null     object \n",
      " 7   UNEM_RATE       84 non-null     float64\n",
      " 8   MORTGAGE        84 non-null     float64\n",
      " 9   GDPC1           84 non-null     float64\n",
      " 10  FORECLOSURES    84 non-null     float64\n",
      " 11  HPI             84 non-null     float64\n",
      "dtypes: float64(5), int64(5), object(2)\n",
      "memory usage: 8.5+ KB\n"
     ]
    }
   ],
   "source": [
    "dataframe.info()"
   ]
  },
  {
   "cell_type": "code",
   "execution_count": 6,
   "id": "fdf7f826",
   "metadata": {},
   "outputs": [
    {
     "data": {
      "text/html": [
       "<div>\n",
       "<style scoped>\n",
       "    .dataframe tbody tr th:only-of-type {\n",
       "        vertical-align: middle;\n",
       "    }\n",
       "\n",
       "    .dataframe tbody tr th {\n",
       "        vertical-align: top;\n",
       "    }\n",
       "\n",
       "    .dataframe thead th {\n",
       "        text-align: right;\n",
       "    }\n",
       "</style>\n",
       "<table border=\"1\" class=\"dataframe\">\n",
       "  <thead>\n",
       "    <tr style=\"text-align: right;\">\n",
       "      <th></th>\n",
       "      <th>Unnamed: 0</th>\n",
       "      <th>Permit_Number</th>\n",
       "      <th>construction</th>\n",
       "      <th>Homes_Sold</th>\n",
       "      <th>Housing_Starts</th>\n",
       "      <th>UNEM_RATE</th>\n",
       "      <th>MORTGAGE</th>\n",
       "      <th>GDPC1</th>\n",
       "      <th>FORECLOSURES</th>\n",
       "      <th>HPI</th>\n",
       "    </tr>\n",
       "  </thead>\n",
       "  <tbody>\n",
       "    <tr>\n",
       "      <th>count</th>\n",
       "      <td>84.000000</td>\n",
       "      <td>84.000000</td>\n",
       "      <td>84.000000</td>\n",
       "      <td>84.000000</td>\n",
       "      <td>84.000000</td>\n",
       "      <td>84.000000</td>\n",
       "      <td>84.000000</td>\n",
       "      <td>84.000000</td>\n",
       "      <td>84.000000</td>\n",
       "      <td>84.000000</td>\n",
       "    </tr>\n",
       "    <tr>\n",
       "      <th>mean</th>\n",
       "      <td>42.500000</td>\n",
       "      <td>1847.750000</td>\n",
       "      <td>473967.202381</td>\n",
       "      <td>1054.773810</td>\n",
       "      <td>1796.119048</td>\n",
       "      <td>5.986667</td>\n",
       "      <td>5.092381</td>\n",
       "      <td>15968.048810</td>\n",
       "      <td>4.745119</td>\n",
       "      <td>161.669405</td>\n",
       "    </tr>\n",
       "    <tr>\n",
       "      <th>std</th>\n",
       "      <td>24.392622</td>\n",
       "      <td>218.735571</td>\n",
       "      <td>110392.854332</td>\n",
       "      <td>149.515712</td>\n",
       "      <td>205.931115</td>\n",
       "      <td>1.976243</td>\n",
       "      <td>1.324841</td>\n",
       "      <td>1762.701831</td>\n",
       "      <td>3.290622</td>\n",
       "      <td>30.778158</td>\n",
       "    </tr>\n",
       "    <tr>\n",
       "      <th>min</th>\n",
       "      <td>1.000000</td>\n",
       "      <td>1535.000000</td>\n",
       "      <td>337374.000000</td>\n",
       "      <td>793.000000</td>\n",
       "      <td>1463.000000</td>\n",
       "      <td>3.600000</td>\n",
       "      <td>2.760000</td>\n",
       "      <td>12935.252000</td>\n",
       "      <td>1.410000</td>\n",
       "      <td>101.340000</td>\n",
       "    </tr>\n",
       "    <tr>\n",
       "      <th>25%</th>\n",
       "      <td>21.750000</td>\n",
       "      <td>1658.250000</td>\n",
       "      <td>370467.750000</td>\n",
       "      <td>935.250000</td>\n",
       "      <td>1625.750000</td>\n",
       "      <td>4.552500</td>\n",
       "      <td>3.942500</td>\n",
       "      <td>14821.741750</td>\n",
       "      <td>2.097500</td>\n",
       "      <td>140.495000</td>\n",
       "    </tr>\n",
       "    <tr>\n",
       "      <th>50%</th>\n",
       "      <td>42.500000</td>\n",
       "      <td>1803.000000</td>\n",
       "      <td>439923.000000</td>\n",
       "      <td>1020.000000</td>\n",
       "      <td>1758.500000</td>\n",
       "      <td>5.430000</td>\n",
       "      <td>4.885000</td>\n",
       "      <td>15768.528500</td>\n",
       "      <td>3.160000</td>\n",
       "      <td>162.240000</td>\n",
       "    </tr>\n",
       "    <tr>\n",
       "      <th>75%</th>\n",
       "      <td>63.250000</td>\n",
       "      <td>2063.000000</td>\n",
       "      <td>568182.500000</td>\n",
       "      <td>1179.250000</td>\n",
       "      <td>1984.250000</td>\n",
       "      <td>7.005000</td>\n",
       "      <td>6.135000</td>\n",
       "      <td>17394.926250</td>\n",
       "      <td>7.517500</td>\n",
       "      <td>182.945000</td>\n",
       "    </tr>\n",
       "    <tr>\n",
       "      <th>max</th>\n",
       "      <td>84.000000</td>\n",
       "      <td>2263.000000</td>\n",
       "      <td>678562.000000</td>\n",
       "      <td>1389.000000</td>\n",
       "      <td>2273.000000</td>\n",
       "      <td>13.070000</td>\n",
       "      <td>8.320000</td>\n",
       "      <td>19202.310000</td>\n",
       "      <td>11.540000</td>\n",
       "      <td>232.550000</td>\n",
       "    </tr>\n",
       "  </tbody>\n",
       "</table>\n",
       "</div>"
      ],
      "text/plain": [
       "       Unnamed: 0  Permit_Number   construction   Homes_Sold  Housing_Starts  \\\n",
       "count   84.000000      84.000000      84.000000    84.000000       84.000000   \n",
       "mean    42.500000    1847.750000  473967.202381  1054.773810     1796.119048   \n",
       "std     24.392622     218.735571  110392.854332   149.515712      205.931115   \n",
       "min      1.000000    1535.000000  337374.000000   793.000000     1463.000000   \n",
       "25%     21.750000    1658.250000  370467.750000   935.250000     1625.750000   \n",
       "50%     42.500000    1803.000000  439923.000000  1020.000000     1758.500000   \n",
       "75%     63.250000    2063.000000  568182.500000  1179.250000     1984.250000   \n",
       "max     84.000000    2263.000000  678562.000000  1389.000000     2273.000000   \n",
       "\n",
       "       UNEM_RATE   MORTGAGE         GDPC1  FORECLOSURES         HPI  \n",
       "count  84.000000  84.000000     84.000000     84.000000   84.000000  \n",
       "mean    5.986667   5.092381  15968.048810      4.745119  161.669405  \n",
       "std     1.976243   1.324841   1762.701831      3.290622   30.778158  \n",
       "min     3.600000   2.760000  12935.252000      1.410000  101.340000  \n",
       "25%     4.552500   3.942500  14821.741750      2.097500  140.495000  \n",
       "50%     5.430000   4.885000  15768.528500      3.160000  162.240000  \n",
       "75%     7.005000   6.135000  17394.926250      7.517500  182.945000  \n",
       "max    13.070000   8.320000  19202.310000     11.540000  232.550000  "
      ]
     },
     "execution_count": 6,
     "metadata": {},
     "output_type": "execute_result"
    }
   ],
   "source": [
    "dataframe.describe()"
   ]
  },
  {
   "cell_type": "code",
   "execution_count": 7,
   "id": "f1b32eee",
   "metadata": {},
   "outputs": [
    {
     "data": {
      "text/plain": [
       "False"
      ]
     },
     "execution_count": 7,
     "metadata": {},
     "output_type": "execute_result"
    }
   ],
   "source": [
    "dataframe.isnull().values.any()"
   ]
  },
  {
   "cell_type": "code",
   "execution_count": 8,
   "id": "562e2478",
   "metadata": {},
   "outputs": [
    {
     "data": {
      "image/png": "[encoded data removed]",
      "text/plain": [
       "<Figure size 864x648 with 2 Axes>"
      ]
     },
     "metadata": {
      "needs_background": "light"
     },
     "output_type": "display_data"
    }
   ],
   "source": [
    "# Correlation matrix\n",
    "import seaborn as sns\n",
    "corrmat = dataframe.corr()\n",
    "fig = plt.figure(figsize = (12, 9))\n",
    "sns.heatmap(corrmat, vmax = .8, square = True)\n",
    "plt.show()\n"
   ]
  },
  {
   "cell_type": "code",
   "execution_count": 9,
   "id": "6a1decb8",
   "metadata": {},
   "outputs": [
    {
     "name": "stdout",
     "output_type": "stream",
     "text": [
      "Old Shape:  (84, 12)\n",
      "New Shape:  (83, 12)\n"
     ]
    }
   ],
   "source": [
    "''' Detection '''\n",
    "# IQR\n",
    "Q1 = np.percentile(dataframe['UNEM_RATE'], 25,\n",
    "\t\t\t\tinterpolation = 'midpoint')\n",
    "\n",
    "Q3 = np.percentile(dataframe['UNEM_RATE'], 75,\n",
    "\t\t\t\tinterpolation = 'midpoint')\n",
    "IQR = Q3 - Q1\n",
    "\n",
    "print(\"Old Shape: \", dataframe.shape)\n",
    "\n",
    "# Upper bound\n",
    "upper = np.where(dataframe['UNEM_RATE'] >= (Q3+1.5*IQR))\n",
    "# Lower bound\n",
    "lower = np.where(dataframe['UNEM_RATE'] <= (Q1-1.5*IQR))\n",
    "\n",
    "''' Removing the Outliers '''\n",
    "dataframe.drop(upper[0], inplace = True)\n",
    "dataframe.drop(lower[0], inplace = True)\n",
    "\n",
    "print(\"New Shape: \", dataframe.shape)\n"
   ]
  },
  {
   "cell_type": "code",
   "execution_count": 10,
   "id": "43b1f89e",
   "metadata": {},
   "outputs": [],
   "source": [
    "import numpy as np\n",
    "from sklearn.preprocessing import StandardScaler\n",
    "scaler = StandardScaler()\n",
    "#dataframe[\"NormalizedGDPC1\", \"NormalizedHousing_Starts\", \"NormalizedHomes_Sold\", \"Normalizedconstruction\"] = scaler.fit_transform(dataframe[\"GDPC1\",\"Housing_Starts\", \"Homes_Sold\", \"construction\" ].values.reshape(-1, 1))\n",
    "dataframe[\"NormalizedGDPC1\"] = scaler.fit_transform(dataframe[\"GDPC1\"].values.reshape(-1, 1))\n",
    "dataframe[\"NormalizedHousing_Starts\"] = scaler.fit_transform(dataframe[\"Housing_Starts\"].values.reshape(-1, 1))\n",
    "dataframe[\"NormalizedHomes_Sold\"] = scaler.fit_transform(dataframe[\"Homes_Sold\"].values.reshape(-1, 1))\n",
    "dataframe[\"Normalizedconstruction\"] = scaler.fit_transform(dataframe[\"construction\"].values.reshape(-1, 1))"
   ]
  },
  {
   "cell_type": "code",
   "execution_count": 11,
   "id": "530a2a42",
   "metadata": {},
   "outputs": [],
   "source": [
    "x1 = dataframe.drop(([\"DATE\",\"Period\", \"Permit_Number\", \"GDPC1\", \"Housing_Starts\", \"Homes_Sold\", \"construction\"]), axis=1, inplace=True)\n",
    "#dataframe2 = dataframe.drop([['Period', 'Permit_Number', 'GDPC1', 'Housing_Starts', 'Homes_Sold', 'construction']]),axis=1, inplace=True)\n",
    "#dataframe.drop([\"Period\", \"Permit_Number\"], inplace= True, axis=0)\n",
    "# Y = dataframe[\"HPI\"] \n",
    "# Xx = dataframe.drop([\"HPI\"], axis= 1)"
   ]
  },
  {
   "cell_type": "code",
   "execution_count": 12,
   "id": "25794c65",
   "metadata": {},
   "outputs": [
    {
     "name": "stdout",
     "output_type": "stream",
     "text": [
      "None\n"
     ]
    }
   ],
   "source": [
    "print(x1)"
   ]
  },
  {
   "cell_type": "code",
   "execution_count": 13,
   "id": "a72f3d1f",
   "metadata": {
    "scrolled": true
   },
   "outputs": [],
   "source": [
    "Y = dataframe[\"HPI\"] \n",
    "Xx = dataframe.drop([\"HPI\"], axis= 1)"
   ]
  },
  {
   "cell_type": "code",
   "execution_count": 14,
   "id": "46dc7851",
   "metadata": {},
   "outputs": [
    {
     "data": {
      "text/html": [
       "<div>\n",
       "<style scoped>\n",
       "    .dataframe tbody tr th:only-of-type {\n",
       "        vertical-align: middle;\n",
       "    }\n",
       "\n",
       "    .dataframe tbody tr th {\n",
       "        vertical-align: top;\n",
       "    }\n",
       "\n",
       "    .dataframe thead th {\n",
       "        text-align: right;\n",
       "    }\n",
       "</style>\n",
       "<table border=\"1\" class=\"dataframe\">\n",
       "  <thead>\n",
       "    <tr style=\"text-align: right;\">\n",
       "      <th></th>\n",
       "      <th>Unnamed: 0</th>\n",
       "      <th>UNEM_RATE</th>\n",
       "      <th>MORTGAGE</th>\n",
       "      <th>FORECLOSURES</th>\n",
       "      <th>NormalizedGDPC1</th>\n",
       "      <th>NormalizedHousing_Starts</th>\n",
       "      <th>NormalizedHomes_Sold</th>\n",
       "      <th>Normalizedconstruction</th>\n",
       "    </tr>\n",
       "  </thead>\n",
       "  <tbody>\n",
       "    <tr>\n",
       "      <th>0</th>\n",
       "      <td>1</td>\n",
       "      <td>4.03</td>\n",
       "      <td>8.26</td>\n",
       "      <td>1.95</td>\n",
       "      <td>-1.717339</td>\n",
       "      <td>-0.806252</td>\n",
       "      <td>-1.229266</td>\n",
       "      <td>-1.089833</td>\n",
       "    </tr>\n",
       "    <tr>\n",
       "      <th>1</th>\n",
       "      <td>2</td>\n",
       "      <td>3.93</td>\n",
       "      <td>8.32</td>\n",
       "      <td>1.97</td>\n",
       "      <td>-1.583300</td>\n",
       "      <td>-0.309098</td>\n",
       "      <td>-1.343370</td>\n",
       "      <td>-1.100126</td>\n",
       "    </tr>\n",
       "    <tr>\n",
       "      <th>2</th>\n",
       "      <td>3</td>\n",
       "      <td>4.00</td>\n",
       "      <td>8.02</td>\n",
       "      <td>2.09</td>\n",
       "      <td>-1.575820</td>\n",
       "      <td>-0.963767</td>\n",
       "      <td>-1.048042</td>\n",
       "      <td>-1.086313</td>\n",
       "    </tr>\n",
       "    <tr>\n",
       "      <th>3</th>\n",
       "      <td>4</td>\n",
       "      <td>3.90</td>\n",
       "      <td>7.62</td>\n",
       "      <td>2.23</td>\n",
       "      <td>-1.531220</td>\n",
       "      <td>-0.855476</td>\n",
       "      <td>-1.444050</td>\n",
       "      <td>-1.061434</td>\n",
       "    </tr>\n",
       "    <tr>\n",
       "      <th>4</th>\n",
       "      <td>5</td>\n",
       "      <td>4.23</td>\n",
       "      <td>7.01</td>\n",
       "      <td>2.34</td>\n",
       "      <td>-1.555694</td>\n",
       "      <td>-1.106514</td>\n",
       "      <td>-1.336658</td>\n",
       "      <td>-1.118550</td>\n",
       "    </tr>\n",
       "    <tr>\n",
       "      <th>...</th>\n",
       "      <td>...</td>\n",
       "      <td>...</td>\n",
       "      <td>...</td>\n",
       "      <td>...</td>\n",
       "      <td>...</td>\n",
       "      <td>...</td>\n",
       "      <td>...</td>\n",
       "      <td>...</td>\n",
       "    </tr>\n",
       "    <tr>\n",
       "      <th>78</th>\n",
       "      <td>79</td>\n",
       "      <td>3.60</td>\n",
       "      <td>3.66</td>\n",
       "      <td>2.42</td>\n",
       "      <td>1.798671</td>\n",
       "      <td>-0.309098</td>\n",
       "      <td>-0.611762</td>\n",
       "      <td>1.141897</td>\n",
       "    </tr>\n",
       "    <tr>\n",
       "      <th>79</th>\n",
       "      <td>80</td>\n",
       "      <td>3.60</td>\n",
       "      <td>3.70</td>\n",
       "      <td>2.34</td>\n",
       "      <td>1.849701</td>\n",
       "      <td>-0.737340</td>\n",
       "      <td>-0.141922</td>\n",
       "      <td>1.014343</td>\n",
       "    </tr>\n",
       "    <tr>\n",
       "      <th>80</th>\n",
       "      <td>81</td>\n",
       "      <td>3.80</td>\n",
       "      <td>3.52</td>\n",
       "      <td>2.36</td>\n",
       "      <td>1.707227</td>\n",
       "      <td>-0.392777</td>\n",
       "      <td>-0.269450</td>\n",
       "      <td>0.918116</td>\n",
       "    </tr>\n",
       "    <tr>\n",
       "      <th>82</th>\n",
       "      <td>83</td>\n",
       "      <td>8.80</td>\n",
       "      <td>2.95</td>\n",
       "      <td>2.80</td>\n",
       "      <td>1.484556</td>\n",
       "      <td>-1.131125</td>\n",
       "      <td>-0.356706</td>\n",
       "      <td>0.691626</td>\n",
       "    </tr>\n",
       "    <tr>\n",
       "      <th>83</th>\n",
       "      <td>84</td>\n",
       "      <td>6.77</td>\n",
       "      <td>2.76</td>\n",
       "      <td>2.74</td>\n",
       "      <td>1.602377</td>\n",
       "      <td>-0.742262</td>\n",
       "      <td>-0.390266</td>\n",
       "      <td>0.655616</td>\n",
       "    </tr>\n",
       "  </tbody>\n",
       "</table>\n",
       "<p>83 rows × 8 columns</p>\n",
       "</div>"
      ],
      "text/plain": [
       "    Unnamed: 0  UNEM_RATE  MORTGAGE  FORECLOSURES  NormalizedGDPC1  \\\n",
       "0            1       4.03      8.26          1.95        -1.717339   \n",
       "1            2       3.93      8.32          1.97        -1.583300   \n",
       "2            3       4.00      8.02          2.09        -1.575820   \n",
       "3            4       3.90      7.62          2.23        -1.531220   \n",
       "4            5       4.23      7.01          2.34        -1.555694   \n",
       "..         ...        ...       ...           ...              ...   \n",
       "78          79       3.60      3.66          2.42         1.798671   \n",
       "79          80       3.60      3.70          2.34         1.849701   \n",
       "80          81       3.80      3.52          2.36         1.707227   \n",
       "82          83       8.80      2.95          2.80         1.484556   \n",
       "83          84       6.77      2.76          2.74         1.602377   \n",
       "\n",
       "    NormalizedHousing_Starts  NormalizedHomes_Sold  Normalizedconstruction  \n",
       "0                  -0.806252             -1.229266               -1.089833  \n",
       "1                  -0.309098             -1.343370               -1.100126  \n",
       "2                  -0.963767             -1.048042               -1.086313  \n",
       "3                  -0.855476             -1.444050               -1.061434  \n",
       "4                  -1.106514             -1.336658               -1.118550  \n",
       "..                       ...                   ...                     ...  \n",
       "78                 -0.309098             -0.611762                1.141897  \n",
       "79                 -0.737340             -0.141922                1.014343  \n",
       "80                 -0.392777             -0.269450                0.918116  \n",
       "82                 -1.131125             -0.356706                0.691626  \n",
       "83                 -0.742262             -0.390266                0.655616  \n",
       "\n",
       "[83 rows x 8 columns]"
      ]
     },
     "execution_count": 14,
     "metadata": {},
     "output_type": "execute_result"
    }
   ],
   "source": [
    "Xx"
   ]
  },
  {
   "cell_type": "code",
   "execution_count": 15,
   "id": "6f033273",
   "metadata": {
    "scrolled": true
   },
   "outputs": [
    {
     "name": "stdout",
     "output_type": "stream",
     "text": [
      "<class 'pandas.core.frame.DataFrame'>\n",
      "Int64Index: 83 entries, 0 to 83\n",
      "Data columns (total 8 columns):\n",
      " #   Column                    Non-Null Count  Dtype  \n",
      "---  ------                    --------------  -----  \n",
      " 0   Unnamed: 0                83 non-null     int64  \n",
      " 1   UNEM_RATE                 83 non-null     float64\n",
      " 2   MORTGAGE                  83 non-null     float64\n",
      " 3   FORECLOSURES              83 non-null     float64\n",
      " 4   NormalizedGDPC1           83 non-null     float64\n",
      " 5   NormalizedHousing_Starts  83 non-null     float64\n",
      " 6   NormalizedHomes_Sold      83 non-null     float64\n",
      " 7   Normalizedconstruction    83 non-null     float64\n",
      "dtypes: float64(7), int64(1)\n",
      "memory usage: 5.8 KB\n"
     ]
    }
   ],
   "source": [
    "Xx.info()"
   ]
  },
  {
   "cell_type": "code",
   "execution_count": null,
   "id": "990cc1b8",
   "metadata": {},
   "outputs": [],
   "source": []
  },
  {
   "cell_type": "code",
   "execution_count": 16,
   "id": "91d2a45c",
   "metadata": {
    "scrolled": true
   },
   "outputs": [
    {
     "data": {
      "text/plain": [
       "0     101.34\n",
       "1     103.67\n",
       "2     105.79\n",
       "3     108.27\n",
       "4     110.48\n",
       "       ...  \n",
       "78    210.33\n",
       "79    212.47\n",
       "80    215.51\n",
       "82    222.84\n",
       "83    232.55\n",
       "Name: HPI, Length: 83, dtype: float64"
      ]
     },
     "execution_count": 16,
     "metadata": {},
     "output_type": "execute_result"
    }
   ],
   "source": [
    "Y"
   ]
  },
  {
   "cell_type": "code",
   "execution_count": 17,
   "id": "e327334d",
   "metadata": {},
   "outputs": [
    {
     "name": "stdout",
     "output_type": "stream",
     "text": [
      "Shape of train_X:  (58, 8)\n",
      "Shape of test_X:  (25, 8)\n"
     ]
    }
   ],
   "source": [
    "from sklearn.model_selection import train_test_split\n",
    "\n",
    "(train_X, test_X, train_Y, test_Y) = train_test_split(Xx, Y, test_size= 0.3, random_state= 42)\n",
    "\n",
    "print(\"Shape of train_X: \", train_X.shape)\n",
    "print(\"Shape of test_X: \", test_X.shape)"
   ]
  },
  {
   "cell_type": "code",
   "execution_count": 18,
   "id": "7b4fb843",
   "metadata": {},
   "outputs": [],
   "source": [
    "\n",
    "# from sklearn.ensemble import RandomForestRegressore\n",
    "# from sklearn.tree import DecisionTreeRegressore\n",
    "\n",
    "#Decision Tree\n",
    "decision_tree = DecisionTreeRegressor()\n",
    "\n",
    "# Random Forest\n",
    "random_forest = RandomForestRegressor(n_estimators= 100)"
   ]
  },
  {
   "cell_type": "code",
   "execution_count": 19,
   "id": "36f124a1",
   "metadata": {},
   "outputs": [],
   "source": [
    "decision_tree.fit(train_X, train_Y)\n",
    "predictions_dt = decision_tree.predict(test_X)\n",
    "decision_tree_score = decision_tree.score(test_X, test_Y) * 100\n"
   ]
  },
  {
   "cell_type": "code",
   "execution_count": 20,
   "id": "b8ea1153",
   "metadata": {},
   "outputs": [
    {
     "name": "stdout",
     "output_type": "stream",
     "text": [
      "MSE : 53.41952400000003\n",
      "RMSE : 7.308866122730668\n",
      "MAE : 5.038\n",
      "R_squared value : 0.9300949146258937\n"
     ]
    }
   ],
   "source": [
    "mse = mean_squared_error(test_Y,predictions_dt)\n",
    "print(\"MSE :\", mse)\n",
    "\n",
    "rmse = np.sqrt(mse)\n",
    "print(\"RMSE :\", rmse)\n",
    "\n",
    "\n",
    "mae = mean_absolute_error(test_Y,predictions_dt)\n",
    "print(\"MAE :\", mae)\n",
    "\n",
    "\n",
    "r_value = r2_score(test_Y,predictions_dt)\n",
    "print(\"R_squared value :\", r_value)\n"
   ]
  },
  {
   "cell_type": "code",
   "execution_count": 21,
   "id": "9dbb394f",
   "metadata": {},
   "outputs": [],
   "source": [
    "random_forest.fit(train_X, train_Y)\n",
    "predictions_rf = random_forest.predict(test_X)\n",
    "random_forest_score = random_forest.score(test_X, test_Y) * 100\n"
   ]
  },
  {
   "cell_type": "code",
   "execution_count": 22,
   "id": "278a305c",
   "metadata": {},
   "outputs": [
    {
     "name": "stdout",
     "output_type": "stream",
     "text": [
      "MSE : 10.57471542160033\n",
      "RMSE : 3.251878752598308\n",
      "MAE : 2.4759200000000448\n",
      "R_squared value : 0.9861618687513231\n"
     ]
    }
   ],
   "source": [
    "mse = mean_squared_error(test_Y,predictions_rf)\n",
    "print(\"MSE :\", mse)\n",
    "\n",
    "rmse = np.sqrt(mse)\n",
    "print(\"RMSE :\", rmse)\n",
    "\n",
    "\n",
    "mae = mean_absolute_error(test_Y,predictions_rf)\n",
    "print(\"MAE :\", mae)\n",
    "\n",
    "\n",
    "r_value = r2_score(test_Y,predictions_rf)\n",
    "print(\"R_squared value :\", r_value)\n"
   ]
  },
  {
   "cell_type": "code",
   "execution_count": 23,
   "id": "d2659282",
   "metadata": {},
   "outputs": [
    {
     "name": "stdout",
     "output_type": "stream",
     "text": [
      "Random Forest Score:  98.6161868751323\n",
      "Decision Tree Score:  93.00949146258937\n"
     ]
    }
   ],
   "source": [
    "print(\"Random Forest Score: \", random_forest_score)\n",
    "print(\"Decision Tree Score: \", decision_tree_score)"
   ]
  },
  {
   "cell_type": "code",
   "execution_count": 24,
   "id": "c6f0c456",
   "metadata": {},
   "outputs": [
    {
     "name": "stdout",
     "output_type": "stream",
     "text": [
      "    Unnamed: 0  UNEM_RATE  MORTGAGE  FORECLOSURES  NormalizedGDPC1  \\\n",
      "0            1       4.03      8.26          1.95        -1.717339   \n",
      "1            2       3.93      8.32          1.97        -1.583300   \n",
      "2            3       4.00      8.02          2.09        -1.575820   \n",
      "3            4       3.90      7.62          2.23        -1.531220   \n",
      "4            5       4.23      7.01          2.34        -1.555694   \n",
      "..         ...        ...       ...           ...              ...   \n",
      "78          79       3.60      3.66          2.42         1.798671   \n",
      "79          80       3.60      3.70          2.34         1.849701   \n",
      "80          81       3.80      3.52          2.36         1.707227   \n",
      "82          83       8.80      2.95          2.80         1.484556   \n",
      "83          84       6.77      2.76          2.74         1.602377   \n",
      "\n",
      "    NormalizedHousing_Starts  NormalizedHomes_Sold  Normalizedconstruction  \\\n",
      "0                  -0.806252             -1.229266               -1.089833   \n",
      "1                  -0.309098             -1.343370               -1.100126   \n",
      "2                  -0.963767             -1.048042               -1.086313   \n",
      "3                  -0.855476             -1.444050               -1.061434   \n",
      "4                  -1.106514             -1.336658               -1.118550   \n",
      "..                       ...                   ...                     ...   \n",
      "78                 -0.309098             -0.611762                1.141897   \n",
      "79                 -0.737340             -0.141922                1.014343   \n",
      "80                 -0.392777             -0.269450                0.918116   \n",
      "82                 -1.131125             -0.356706                0.691626   \n",
      "83                 -0.742262             -0.390266                0.655616   \n",
      "\n",
      "       HPI  \n",
      "0   101.34  \n",
      "1   103.67  \n",
      "2   105.79  \n",
      "3   108.27  \n",
      "4   110.48  \n",
      "..     ...  \n",
      "78  210.33  \n",
      "79  212.47  \n",
      "80  215.51  \n",
      "82  222.84  \n",
      "83  232.55  \n",
      "\n",
      "[83 rows x 9 columns]\n"
     ]
    }
   ],
   "source": [
    "import pandas as pd\n",
    "\n",
    "df1 = pd.merge(Xx, Y, right_index=True, left_index=True)\n",
    "print (df1)"
   ]
  },
  {
   "cell_type": "code",
   "execution_count": 25,
   "id": "bfedd138",
   "metadata": {},
   "outputs": [
    {
     "data": {
      "text/plain": [
       "Index(['Unnamed: 0', 'UNEM_RATE', 'MORTGAGE', 'FORECLOSURES',\n",
       "       'NormalizedGDPC1', 'NormalizedHousing_Starts', 'NormalizedHomes_Sold',\n",
       "       'Normalizedconstruction', 'HPI'],\n",
       "      dtype='object')"
      ]
     },
     "execution_count": 25,
     "metadata": {},
     "output_type": "execute_result"
    }
   ],
   "source": [
    "df1.columns"
   ]
  },
  {
   "cell_type": "code",
   "execution_count": 26,
   "id": "1f8ee522",
   "metadata": {},
   "outputs": [
    {
     "name": "stdout",
     "output_type": "stream",
     "text": [
      "       HPI  Unnamed: 0  UNEM_RATE  MORTGAGE  FORECLOSURES  NormalizedGDPC1  \\\n",
      "0   101.34           1       4.03      8.26          1.95        -1.717339   \n",
      "1   103.67           2       3.93      8.32          1.97        -1.583300   \n",
      "2   105.79           3       4.00      8.02          2.09        -1.575820   \n",
      "3   108.27           4       3.90      7.62          2.23        -1.531220   \n",
      "4   110.48           5       4.23      7.01          2.34        -1.555694   \n",
      "..     ...         ...        ...       ...           ...              ...   \n",
      "78  210.33          79       3.60      3.66          2.42         1.798671   \n",
      "79  212.47          80       3.60      3.70          2.34         1.849701   \n",
      "80  215.51          81       3.80      3.52          2.36         1.707227   \n",
      "82  222.84          83       8.80      2.95          2.80         1.484556   \n",
      "83  232.55          84       6.77      2.76          2.74         1.602377   \n",
      "\n",
      "    NormalizedHousing_Starts  NormalizedHomes_Sold  Normalizedconstruction  \n",
      "0                  -0.806252             -1.229266               -1.089833  \n",
      "1                  -0.309098             -1.343370               -1.100126  \n",
      "2                  -0.963767             -1.048042               -1.086313  \n",
      "3                  -0.855476             -1.444050               -1.061434  \n",
      "4                  -1.106514             -1.336658               -1.118550  \n",
      "..                       ...                   ...                     ...  \n",
      "78                 -0.309098             -0.611762                1.141897  \n",
      "79                 -0.737340             -0.141922                1.014343  \n",
      "80                 -0.392777             -0.269450                0.918116  \n",
      "82                 -1.131125             -0.356706                0.691626  \n",
      "83                 -0.742262             -0.390266                0.655616  \n",
      "\n",
      "[83 rows x 9 columns]\n"
     ]
    }
   ],
   "source": [
    "##Move last Column to First Column\n",
    "\n",
    "new_cols = ['HPI', 'Unnamed: 0', 'UNEM_RATE', 'MORTGAGE', 'FORECLOSURES',\n",
    "       'NormalizedGDPC1', 'NormalizedHousing_Starts', 'NormalizedHomes_Sold',\n",
    "       'Normalizedconstruction']\n",
    "df3=df1[new_cols]\n",
    "#or\n",
    "#df3=df.reindex(columns=new_cols)\n",
    "print(df3)"
   ]
  },
  {
   "cell_type": "code",
   "execution_count": 27,
   "id": "9787abf4",
   "metadata": {},
   "outputs": [
    {
     "data": {
      "text/html": [
       "<div>\n",
       "<style scoped>\n",
       "    .dataframe tbody tr th:only-of-type {\n",
       "        vertical-align: middle;\n",
       "    }\n",
       "\n",
       "    .dataframe tbody tr th {\n",
       "        vertical-align: top;\n",
       "    }\n",
       "\n",
       "    .dataframe thead th {\n",
       "        text-align: right;\n",
       "    }\n",
       "</style>\n",
       "<table border=\"1\" class=\"dataframe\">\n",
       "  <thead>\n",
       "    <tr style=\"text-align: right;\">\n",
       "      <th></th>\n",
       "      <th>importance</th>\n",
       "    </tr>\n",
       "    <tr>\n",
       "      <th>feature</th>\n",
       "      <th></th>\n",
       "    </tr>\n",
       "  </thead>\n",
       "  <tbody>\n",
       "    <tr>\n",
       "      <th>Unnamed: 0</th>\n",
       "      <td>0.375</td>\n",
       "    </tr>\n",
       "    <tr>\n",
       "      <th>NormalizedGDPC1</th>\n",
       "      <td>0.344</td>\n",
       "    </tr>\n",
       "    <tr>\n",
       "      <th>UNEM_RATE</th>\n",
       "      <td>0.130</td>\n",
       "    </tr>\n",
       "    <tr>\n",
       "      <th>Normalizedconstruction</th>\n",
       "      <td>0.089</td>\n",
       "    </tr>\n",
       "    <tr>\n",
       "      <th>MORTGAGE</th>\n",
       "      <td>0.021</td>\n",
       "    </tr>\n",
       "    <tr>\n",
       "      <th>FORECLOSURES</th>\n",
       "      <td>0.021</td>\n",
       "    </tr>\n",
       "    <tr>\n",
       "      <th>NormalizedHomes_Sold</th>\n",
       "      <td>0.013</td>\n",
       "    </tr>\n",
       "    <tr>\n",
       "      <th>NormalizedHousing_Starts</th>\n",
       "      <td>0.006</td>\n",
       "    </tr>\n",
       "  </tbody>\n",
       "</table>\n",
       "</div>"
      ],
      "text/plain": [
       "                          importance\n",
       "feature                             \n",
       "Unnamed: 0                     0.375\n",
       "NormalizedGDPC1                0.344\n",
       "UNEM_RATE                      0.130\n",
       "Normalizedconstruction         0.089\n",
       "MORTGAGE                       0.021\n",
       "FORECLOSURES                   0.021\n",
       "NormalizedHomes_Sold           0.013\n",
       "NormalizedHousing_Starts       0.006"
      ]
     },
     "execution_count": 27,
     "metadata": {},
     "output_type": "execute_result"
    }
   ],
   "source": [
    "# Return the feature importances (the higher, the more important the feature).\n",
    "import pandas as pd\n",
    "\n",
    "importances = pd.DataFrame({'feature':df3.iloc[:, 1:df3.shape[1]].columns,'importance':np.round(random_forest.feature_importances_,3)}) #Note: The target column is at position 0\n",
    "importances = importances.sort_values('importance',ascending=False).set_index('feature')\n",
    "importances"
   ]
  },
  {
   "cell_type": "code",
   "execution_count": 28,
   "id": "31521938",
   "metadata": {},
   "outputs": [
    {
     "data": {
      "text/plain": [
       "<AxesSubplot:xlabel='feature'>"
      ]
     },
     "execution_count": 28,
     "metadata": {},
     "output_type": "execute_result"
    },
    {
     "data": {
      "image/png": "[encoded data removed]",
      "text/plain": [
       "<Figure size 432x288 with 1 Axes>"
      ]
     },
     "metadata": {
      "needs_background": "light"
     },
     "output_type": "display_data"
    }
   ],
   "source": [
    "#Visualize the importance\n",
    "importances.plot.bar()"
   ]
  },
  {
   "cell_type": "markdown",
   "id": "466d2260",
   "metadata": {},
   "source": [
    "Conclusion Unnamed: 0 appears to be the most important feature followed by the NormalizedGDPC1"
   ]
  }
 ],
 "metadata": {
  "kernelspec": {
   "display_name": "Python 3 (ipykernel)",
   "language": "python",
   "name": "python3"
  },
  "language_info": {
   "codemirror_mode": {
    "name": "ipython",
    "version": 3
   },
   "file_extension": ".py",
   "mimetype": "text/x-python",
   "name": "python",
   "nbconvert_exporter": "python",
   "pygments_lexer": "ipython3",
   "version": "3.9.12"
  }
 },
 "nbformat": 4,
 "nbformat_minor": 5
}
